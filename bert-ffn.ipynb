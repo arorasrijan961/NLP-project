{
 "cells": [
  {
   "cell_type": "markdown",
   "metadata": {},
   "source": [
    "### Imports"
   ]
  },
  {
   "cell_type": "code",
   "execution_count": 1,
   "metadata": {},
   "outputs": [],
   "source": [
    "import gc\n",
    "\n",
    "import numpy as np\n",
    "import pandas as pd\n",
    "\n",
    "import torch\n",
    "from torch.utils.data import DataLoader, Dataset, SequentialSampler, RandomSampler\n",
    "from torch import nn\n",
    "\n",
    "import transformers\n",
    "from transformers import BertModel, BertTokenizer, AdamW, get_linear_schedule_with_warmup\n",
    "\n",
    "from sklearn.model_selection import train_test_split, StratifiedShuffleSplit\n",
    "from sklearn.metrics import accuracy_score, f1_score, confusion_matrix\n",
    "\n",
    "import seaborn as sns\n",
    "\n",
    "RANDOM_SEED=30\n",
    "np.random.seed(RANDOM_SEED)\n",
    "torch.manual_seed(RANDOM_SEED)\n",
    "\n",
    "device = torch.device('cuda:0' if torch.cuda.is_available() else 'cpu')\n",
    "if(torch.cuda.is_available()):\n",
    "    torch.cuda.empty_cache()\n",
    "    gc.collect()\n"
   ]
  },
  {
   "cell_type": "markdown",
   "metadata": {},
   "source": [
    "### Hyperparameters"
   ]
  },
  {
   "cell_type": "code",
   "execution_count": 2,
   "metadata": {},
   "outputs": [],
   "source": [
    "BATCH_SIZE = 8\n",
    "MAX_LEN=256\n",
    "PRE_TRAINED_MODEL_NAME = 'bert-base-uncased'"
   ]
  },
  {
   "cell_type": "markdown",
   "metadata": {},
   "source": [
    "### There are multiple ways to obtain datasets: with/without stopwords, augmented with hateEval/not augmented, and with 0 label samples oversampled"
   ]
  },
  {
   "cell_type": "code",
   "execution_count": 3,
   "metadata": {},
   "outputs": [
    {
     "name": "stdout",
     "output_type": "stream",
     "text": [
      "(35089, 3)\n",
      "(3966, 3)\n"
     ]
    }
   ],
   "source": [
    "def create_dataframes(stopwords=False, oversampling=0, augmented=False):\n",
    "    if(stopwords and augmented):\n",
    "        df_train=pd.read_csv('train_augmented_with_stopwords.csv')\n",
    "        df_val=pd.read_csv('val_with_stopwords.csv')\n",
    "    elif(stopwords and (not augmented)):\n",
    "        df_train=pd.read_csv('train_new_with_stopwords.csv')\n",
    "        df_val=pd.read_csv('val_with_stopwords.csv')\n",
    "        \n",
    "    elif((not stopwords) and augmented):\n",
    "        df_train=pd.read_csv('train_augmented_without_stopwords.csv')\n",
    "        df_val=pd.read_csv('val_without_stopwords.csv')\n",
    "    \n",
    "    elif((not stopwords) and (not augmented)):\n",
    "        df_train=pd.read_csv('train_new_without_stopwords.csv')\n",
    "        df_val=pd.read_csv('val_without_stopwords.csv')\n",
    "        \n",
    "    df_train_0=df_train.loc[df_train['label']==0]\n",
    "    for i in range(oversampling):\n",
    "        df_train=df_train.append(df_train_0, ignore_index=True)\n",
    "        \n",
    "    return df_train, df_val\n",
    "\n",
    "\n",
    "df_train, df_val=create_dataframes(augmented=True)\n",
    "print(df_train.shape)\n",
    "print(df_val.shape)"
   ]
  },
  {
   "cell_type": "markdown",
   "metadata": {},
   "source": [
    "### Creating Dataset and Model"
   ]
  },
  {
   "cell_type": "code",
   "execution_count": 4,
   "metadata": {},
   "outputs": [
    {
     "name": "stderr",
     "output_type": "stream",
     "text": [
      "Some weights of the model checkpoint at bert-base-uncased were not used when initializing BertModel: ['cls.predictions.decoder.weight', 'cls.predictions.bias', 'cls.predictions.transform.dense.weight', 'cls.predictions.transform.dense.bias', 'cls.seq_relationship.bias', 'cls.predictions.transform.LayerNorm.bias', 'cls.predictions.transform.LayerNorm.weight', 'cls.seq_relationship.weight']\n",
      "- This IS expected if you are initializing BertModel from the checkpoint of a model trained on another task or with another architecture (e.g. initializing a BertForSequenceClassification model from a BertForPreTraining model).\n",
      "- This IS NOT expected if you are initializing BertModel from the checkpoint of a model that you expect to be exactly identical (initializing a BertForSequenceClassification model from a BertForSequenceClassification model).\n"
     ]
    }
   ],
   "source": [
    "tokenizer = BertTokenizer.from_pretrained(PRE_TRAINED_MODEL_NAME)\n",
    "bert_model = BertModel.from_pretrained(PRE_TRAINED_MODEL_NAME, output_hidden_states=True)\n",
    "\n",
    "class TweetDataset(Dataset):\n",
    "\n",
    "    def __init__(self, tweets, labels, tokenizer, max_len, transform = None):\n",
    "        self.tweets = tweets\n",
    "        self.labels = labels\n",
    "        self.tokenizer = tokenizer\n",
    "        self.max_len = max_len\n",
    "        self.transform = transform\n",
    "  \n",
    "    def __len__(self):\n",
    "        return len(self.tweets)\n",
    "  \n",
    "    def __getitem__(self, item):\n",
    "        tweet = str(self.tweets[item])\n",
    "        label = self.labels[item]\n",
    "\n",
    "        encoding = self.tokenizer.encode_plus(\n",
    "        tweet,\n",
    "        add_special_tokens=True,\n",
    "        max_length=self.max_len,\n",
    "        return_token_type_ids=False,\n",
    "        padding='max_length',\n",
    "        return_attention_mask=True,\n",
    "        return_tensors='pt',\n",
    "        truncation = True,\n",
    "        )\n",
    "        sample = {\n",
    "        'text': tweet,\n",
    "        'input_ids': encoding['input_ids'].flatten(),\n",
    "        'attention_mask': encoding['attention_mask'].flatten(),\n",
    "        'label': torch.tensor(label, dtype=torch.long)\n",
    "        }\n",
    "        if(self.transform):\n",
    "            sample = self.transform(sample)\n",
    "        return sample\n",
    "        \n",
    "def create_data_loader(df, tokenizer, max_len, batch_size):\n",
    "    ds = TweetDataset(\n",
    "    tweets=df['tweet'].to_numpy(),\n",
    "    labels=df['label'].to_numpy(),\n",
    "    tokenizer=tokenizer,\n",
    "    max_len=max_len\n",
    "    )\n",
    "\n",
    "    return DataLoader(\n",
    "    ds,\n",
    "    batch_size=batch_size,\n",
    "    sampler=RandomSampler(ds),\n",
    "    num_workers=8\n",
    "    )\n",
    "    \n",
    "\n",
    "train_data_loader = create_data_loader(df_train, tokenizer, MAX_LEN, BATCH_SIZE)\n",
    "val_data_loader = create_data_loader(df_val, tokenizer, MAX_LEN, BATCH_SIZE)\n",
    "\n",
    "\n",
    "# only for kaggle submission\n",
    "# class TestDataset(Dataset):\n",
    "\n",
    "#     def __init__(self, tweets, index, tokenizer, max_len, transform = None):\n",
    "#         self.tweets = tweets\n",
    "#         self.index = index\n",
    "#         self.tokenizer = tokenizer\n",
    "#         self.max_len = max_len\n",
    "#         self.transform = transform\n",
    "  \n",
    "#     def __len__(self):\n",
    "#         return len(self.tweets)\n",
    "  \n",
    "#     def __getitem__(self, item):\n",
    "#         tweet = str(self.tweets[item])\n",
    "#         index = self.index[item]\n",
    "#         encoding = self.tokenizer.encode_plus(\n",
    "#         tweet,\n",
    "#         add_special_tokens=True,\n",
    "#         max_length=self.max_len,\n",
    "#         return_token_type_ids=False,\n",
    "#         padding='max_length',\n",
    "#         return_attention_mask=True,\n",
    "#         return_tensors='pt',\n",
    "#         truncation = True,\n",
    "#         )\n",
    "#         sample = {\n",
    "#         'text': tweet,\n",
    "#         'input_ids': encoding['input_ids'].flatten(),\n",
    "#         'attention_mask': encoding['attention_mask'].flatten(),\n",
    "#         'index': index\n",
    "#         }\n",
    "#         if(self.transform):\n",
    "#             sample = self.transform(sample)\n",
    "#         return sample\n",
    "\n",
    "# def create_test_loader(df, tokenizer, max_len, batch_size):\n",
    "#     ds = TestDataset(\n",
    "#     tweets=df['tweet'].to_numpy(),\n",
    "#     index=df['index'].to_numpy(),\n",
    "#     tokenizer=tokenizer,\n",
    "#     max_len=max_len\n",
    "#     )\n",
    "\n",
    "#     return DataLoader(\n",
    "#     ds,\n",
    "#     batch_size=batch_size,\n",
    "#     num_workers=8\n",
    "#     )\n",
    "    \n",
    "# test_data_loader = create_test_loader(df_test, tokenizer, MAX_LEN, BATCH_SIZE)\n"
   ]
  },
  {
   "cell_type": "code",
   "execution_count": 5,
   "metadata": {},
   "outputs": [],
   "source": [
    "class HateSpeechClassifier(nn.Module):\n",
    "\n",
    "    def __init__(self, n_classes, lm):\n",
    "        super(HateSpeechClassifier, self).__init__()\n",
    "        self.lm = lm\n",
    "        self.drop = nn.Dropout(p=0.2)\n",
    "        self.out = nn.Sequential(\n",
    "            # nn.Linear(self.lm.config.hidden_size, 512),\n",
    "            # nn.Tanh(),\n",
    "            nn.Linear(self.lm.config.hidden_size, 256), \n",
    "            nn.ReLU(), \n",
    "            nn.Linear(256, 32), \n",
    "            nn.Tanh(),\n",
    "            nn.Linear(32, n_classes),\n",
    "            # nn.Softmax(n_classes),\n",
    "        )\n",
    "  \n",
    "    def forward(self, input_ids, attention_mask):\n",
    "        bert_output = self.lm(\n",
    "        input_ids=input_ids,\n",
    "        attention_mask=attention_mask\n",
    "        )\n",
    "        output = self.drop(bert_output[1])\n",
    "        return self.out(output)"
   ]
  },
  {
   "cell_type": "code",
   "execution_count": 6,
   "metadata": {},
   "outputs": [],
   "source": [
    "model = HateSpeechClassifier(n_classes=3, lm = bert_model)\n",
    "model = model.to(device)"
   ]
  },
  {
   "cell_type": "markdown",
   "metadata": {},
   "source": [
    "### Training"
   ]
  },
  {
   "cell_type": "code",
   "execution_count": 7,
   "metadata": {},
   "outputs": [],
   "source": [
    "def train_epoch(\n",
    "    model,\n",
    "    data_loader, \n",
    "    loss_func, \n",
    "    optimizer, \n",
    "    device, \n",
    "    scheduler,\n",
    "    n_examples\n",
    "):\n",
    "    model = model.train()\n",
    "    losses = []\n",
    "    correct_predictions = 0\n",
    "    for d in data_loader:\n",
    "        input_ids = d['input_ids'].to(device)\n",
    "        attention_mask = d['attention_mask'].to(device)\n",
    "        labels = d['label'].to(device)\n",
    "        \n",
    "        output = model(\n",
    "            input_ids = input_ids,\n",
    "            attention_mask = attention_mask\n",
    "        )\n",
    "        \n",
    "        _, prediction = torch.max(output, dim=1)\n",
    "        loss = loss_func(output, labels)\n",
    "        \n",
    "        correct_predictions += torch.sum(prediction == labels)\n",
    "        losses.append(loss.item())\n",
    "        \n",
    "        loss.backward()\n",
    "        optimizer.step()\n",
    "        scheduler.step()\n",
    "        optimizer.zero_grad()\n",
    "        \n",
    "    return correct_predictions.double() / n_examples, np.mean(losses)\n",
    "\n",
    "\n",
    "def val_epoch(\n",
    "    model,\n",
    "    data_loader, \n",
    "    device,\n",
    "):\n",
    "    p=[]\n",
    "    y_true=[]\n",
    "    model.eval()\n",
    "    with torch.no_grad():\n",
    "        for d in data_loader:\n",
    "            output = model(\n",
    "                input_ids=d['input_ids'].to(device),\n",
    "                attention_mask=d['attention_mask'].to(device),\n",
    "            )\n",
    "            y_true+=(d['label'].tolist())\n",
    "            _, prediction=torch.max(output, dim=1)\n",
    "            p+=prediction.tolist()\n",
    "        \n",
    "        \n",
    "    prediction=np.array(p)\n",
    "    y_true=np.array(y_true)\n",
    "    \n",
    "    accuracy=accuracy_score(y_true, prediction)\n",
    "    macro_f1_score=f1_score(y_true, prediction, average='macro')\n",
    "    conf_mat=confusion_matrix(y_true, prediction)\n",
    "    \n",
    "    return accuracy, macro_f1_score, conf_mat\n"
   ]
  },
  {
   "cell_type": "code",
   "execution_count": 8,
   "metadata": {},
   "outputs": [],
   "source": [
    "EPOCHS = 5\n",
    "\n",
    "optimizer = torch.optim.AdamW(model.parameters(), lr=2e-5, eps=1e-9)\n",
    "total_steps = len(train_data_loader)*EPOCHS\n",
    "\n",
    "scheduler = get_linear_schedule_with_warmup(\n",
    "    optimizer,\n",
    "    num_warmup_steps=0, \n",
    "    num_training_steps=total_steps\n",
    ")\n",
    "\n",
    "loss_func = nn.CrossEntropyLoss().to(device)"
   ]
  },
  {
   "cell_type": "code",
   "execution_count": 9,
   "metadata": {},
   "outputs": [
    {
     "ename": "KeyboardInterrupt",
     "evalue": "",
     "output_type": "error",
     "traceback": [
      "\u001b[0;31m---------------------------------------------------------------------------\u001b[0m",
      "\u001b[0;31mKeyboardInterrupt\u001b[0m                         Traceback (most recent call last)",
      "\u001b[0;32m<ipython-input-9-61ff03f94828>\u001b[0m in \u001b[0;36m<module>\u001b[0;34m\u001b[0m\n\u001b[1;32m      9\u001b[0m         \u001b[0mdevice\u001b[0m\u001b[0;34m,\u001b[0m\u001b[0;34m\u001b[0m\u001b[0;34m\u001b[0m\u001b[0m\n\u001b[1;32m     10\u001b[0m         \u001b[0mscheduler\u001b[0m\u001b[0;34m,\u001b[0m\u001b[0;34m\u001b[0m\u001b[0;34m\u001b[0m\u001b[0m\n\u001b[0;32m---> 11\u001b[0;31m         \u001b[0mlen\u001b[0m\u001b[0;34m(\u001b[0m\u001b[0mdf_train\u001b[0m\u001b[0;34m)\u001b[0m\u001b[0;34m\u001b[0m\u001b[0;34m\u001b[0m\u001b[0m\n\u001b[0m\u001b[1;32m     12\u001b[0m     )\n\u001b[1;32m     13\u001b[0m     \u001b[0mprint\u001b[0m\u001b[0;34m(\u001b[0m\u001b[0;34m\"Epoch: \"\u001b[0m\u001b[0;34m,\u001b[0m \u001b[0mi\u001b[0m\u001b[0;34m)\u001b[0m\u001b[0;34m\u001b[0m\u001b[0;34m\u001b[0m\u001b[0m\n",
      "\u001b[0;32m<ipython-input-7-f93aae5284f2>\u001b[0m in \u001b[0;36mtrain_epoch\u001b[0;34m(model, data_loader, loss_func, optimizer, device, scheduler, n_examples)\u001b[0m\n\u001b[1;32m     25\u001b[0m \u001b[0;34m\u001b[0m\u001b[0m\n\u001b[1;32m     26\u001b[0m         \u001b[0mcorrect_predictions\u001b[0m \u001b[0;34m+=\u001b[0m \u001b[0mtorch\u001b[0m\u001b[0;34m.\u001b[0m\u001b[0msum\u001b[0m\u001b[0;34m(\u001b[0m\u001b[0mprediction\u001b[0m \u001b[0;34m==\u001b[0m \u001b[0mlabels\u001b[0m\u001b[0;34m)\u001b[0m\u001b[0;34m\u001b[0m\u001b[0;34m\u001b[0m\u001b[0m\n\u001b[0;32m---> 27\u001b[0;31m         \u001b[0mlosses\u001b[0m\u001b[0;34m.\u001b[0m\u001b[0mappend\u001b[0m\u001b[0;34m(\u001b[0m\u001b[0mloss\u001b[0m\u001b[0;34m.\u001b[0m\u001b[0mitem\u001b[0m\u001b[0;34m(\u001b[0m\u001b[0;34m)\u001b[0m\u001b[0;34m)\u001b[0m\u001b[0;34m\u001b[0m\u001b[0;34m\u001b[0m\u001b[0m\n\u001b[0m\u001b[1;32m     28\u001b[0m \u001b[0;34m\u001b[0m\u001b[0m\n\u001b[1;32m     29\u001b[0m         \u001b[0mloss\u001b[0m\u001b[0;34m.\u001b[0m\u001b[0mbackward\u001b[0m\u001b[0;34m(\u001b[0m\u001b[0;34m)\u001b[0m\u001b[0;34m\u001b[0m\u001b[0;34m\u001b[0m\u001b[0m\n",
      "\u001b[0;31mKeyboardInterrupt\u001b[0m: "
     ]
    }
   ],
   "source": [
    "best_epoch=0\n",
    "best_score=0\n",
    "for i in range(EPOCHS):\n",
    "    train_accuracy, train_loss = train_epoch(\n",
    "        model,\n",
    "        train_data_loader,\n",
    "        loss_func,\n",
    "        optimizer,\n",
    "        device,\n",
    "        scheduler, \n",
    "        len(df_train)\n",
    "    )\n",
    "    print(\"Epoch: \", i)\n",
    "    # print(\"Accuracy: \"+ str(train_accuracy.item()) + \"\\tLoss: \"+str(train_loss))\n",
    "    \n",
    "    val_accuracy, val_f1_score, conf_mat=val_epoch(model=model, data_loader=val_data_loader, device=device)\n",
    "    print(\"Val accuracy: \"+str(val_accuracy)+\"\\tVal f1_score: \"+str(val_f1_score))\n",
    "    if(val_f1_score>best_score):\n",
    "        best_epoch=i\n",
    "        best_score=val_f1_score\n",
    "        best_conf_mat=conf_mat\n",
    "        best_accuracy=val_accuracy\n",
    "        torch.save(model.state_dict(), './bert-fnn-oversampled1-1.pt')\n",
    "    \n",
    "print(\"Ideal number of epochs: \", best_epoch+1)\n",
    "best_epoch+=1\n"
   ]
  },
  {
   "cell_type": "code",
   "execution_count": 27,
   "metadata": {},
   "outputs": [
    {
     "data": {
      "text/plain": [
       "7037"
      ]
     },
     "execution_count": 27,
     "metadata": {},
     "output_type": "execute_result"
    }
   ],
   "source": [
    "torch.cuda.empty_cache()\n",
    "gc.collect()"
   ]
  },
  {
   "cell_type": "code",
   "execution_count": 61,
   "metadata": {},
   "outputs": [
    {
     "name": "stdout",
     "output_type": "stream",
     "text": [
      "Epoch:  3\n",
      "Accuracy:  0.9041855774079677\n",
      "F1-score:  0.7546080617778644\n",
      "Confusion matrix\n",
      " [[  98  130   24]\n",
      " [  71 2914   95]\n",
      " [  10   50  574]]\n"
     ]
    },
    {
     "data": {
      "text/plain": [
       "<AxesSubplot:>"
      ]
     },
     "execution_count": 61,
     "metadata": {},
     "output_type": "execute_result"
    },
    {
     "data": {
      "image/png": "[encoded data removed]",
      "text/plain": [
       "<Figure size 432x288 with 2 Axes>"
      ]
     },
     "metadata": {
      "needs_background": "light"
     },
     "output_type": "display_data"
    }
   ],
   "source": [
    "print(\"Epoch: \", best_epoch)\n",
    "print(\"Accuracy: \", best_accuracy)\n",
    "print('F1-score: ', best_score)\n",
    "print(\"Confusion matrix\\n\", best_conf_mat)\n",
    "sns.heatmap(best_conf_mat, annot=True, cmap='crest')"
   ]
  }
 ],
 "metadata": {
  "kernelspec": {
   "display_name": "Python 3.6.9 ('venv': venv)",
   "language": "python",
   "name": "python3"
  },
  "language_info": {
   "codemirror_mode": {
    "name": "ipython",
    "version": 3
   },
   "file_extension": ".py",
   "mimetype": "text/x-python",
   "name": "python",
   "nbconvert_exporter": "python",
   "pygments_lexer": "ipython3",
   "version": "3.6.9"
  },
  "orig_nbformat": 4,
  "vscode": {
   "interpreter": {
    "hash": "40c8aee14bfcd74aa3931897f14b05b05ebb9b88f6cef370cd02f0c54cc83820"
   }
  }
 },
 "nbformat": 4,
 "nbformat_minor": 2
}
